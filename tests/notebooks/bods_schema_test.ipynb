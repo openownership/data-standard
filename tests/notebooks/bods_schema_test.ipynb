{
 "cells": [
  {
   "cell_type": "code",
   "execution_count": 1,
   "metadata": {},
   "outputs": [],
   "source": [
    "import os\n",
    "import json\n",
    "from jsonschema import validate, ValidationError, RefResolver\n",
    "import pytest"
   ]
  },
  {
   "cell_type": "markdown",
   "metadata": {},
   "source": [
    "# Define tests"
   ]
  },
  {
   "cell_type": "code",
   "execution_count": 2,
   "metadata": {},
   "outputs": [],
   "source": [
    "# path to schema\n",
    "absolute_path_to_schema_dir = \"\""
   ]
  },
  {
   "cell_type": "code",
   "execution_count": 3,
   "metadata": {},
   "outputs": [],
   "source": [
    "resolver = RefResolver('file://' + absolute_path_to_schema_dir + '/', None)\n",
    "\n",
    "def test_valid_json(json_data, schema, resolver):\n",
    "    validate(json_data, schema, resolver=resolver)\n",
    "\n",
    "\n",
    "def test_invalid_json(json_data, schema, resolver):\n",
    "    with pytest.raises(ValidationError):\n",
    "        validate(json_data, schema, resolver=resolver)"
   ]
  },
  {
   "cell_type": "markdown",
   "metadata": {},
   "source": [
    "# Load schema and subschemas"
   ]
  },
  {
   "cell_type": "code",
   "execution_count": 4,
   "metadata": {},
   "outputs": [],
   "source": [
    "bods_package_path = os.path.join(absolute_path_to_schema_dir, \"bods-package.json\")\n",
    "entity_statement_path = os.path.join(absolute_path_to_schema_dir, \"entity-statement.json\") \n",
    "person_statement_path = os.path.join(absolute_path_to_schema_dir, \"person-statement.json\")\n",
    "beneficial_ownership_statement_path = os.path.join(absolute_path_to_schema_dir, \"beneficial-ownership-statement.json\")\n",
    "\n",
    "with open(bods_package_path) as f:\n",
    "    bods_package_schema = json.load(f)\n",
    "with open(entity_statement_path) as f:\n",
    "    entity_statement_schema = json.load(f)\n",
    "with open(person_statement_path) as f:\n",
    "    person_statement_schema = json.load(f)\n",
    "with open(beneficial_ownership_statement_path) as f:\n",
    "    beneficial_ownership_statement_schema = json.load(f)"
   ]
  },
  {
   "cell_type": "markdown",
   "metadata": {},
   "source": [
    "# Load test data"
   ]
  },
  {
   "cell_type": "code",
   "execution_count": 5,
   "metadata": {},
   "outputs": [],
   "source": [
    "# Entity statements\n",
    "with open('../data/entity-statement/valid/valid-entity-statement.json') as f:\n",
    "    valid_entity = json.load(f)\n",
    "with open('../data/entity-statement/invalid/entity-statement-with-invalid-statement-id.json') as f:\n",
    "    invalid_entity = json.load(f)\n",
    "# Person statements\n",
    "with open('../data/person-statement/valid/valid-person-statement.json') as f:\n",
    "    valid_person = json.load(f)\n",
    "with open('../data/person-statement/invalid/person-statement-with-invalid-statement-id.json') as f:\n",
    "    invalid_person = json.load(f)\n",
    "# Beneficial ownership statements\n",
    "with open('../data/beneficial-ownership-statement/valid/valid-beneficial-ownership-statement.json') as f:\n",
    "    valid_beneficial_ownership_statement = json.load(f)\n",
    "with open('../data/beneficial-ownership-statement/invalid/beneficial-ownership-statement-with-invalid-statement-id.json') as f:\n",
    "    invalid_beneficial_ownership_statement = json.load(f)\n",
    "with open('../data/beneficial-ownership-statement/invalid/beneficial-ownership-statement-no-statement-type.json') as f:\n",
    "    no_statement_type_beneficial_ownership_statement = json.load(f)\n",
    "#BODS package statements\n",
    "with open('../data/bods-package/valid/valid-bods-package.json') as f:\n",
    "    valid_bods_package = json.load(f)"
   ]
  },
  {
   "cell_type": "markdown",
   "metadata": {},
   "source": [
    "# Test valid data"
   ]
  },
  {
   "cell_type": "code",
   "execution_count": 6,
   "metadata": {},
   "outputs": [],
   "source": [
    "test_valid_json(valid_entity, entity_statement_schema, resolver)\n",
    "test_valid_json(valid_person, person_statement_schema, resolver)\n",
    "test_valid_json(valid_beneficial_ownership_statement, beneficial_ownership_statement_schema, resolver)\n",
    "test_valid_json(valid_bods_package, bods_package_schema, resolver)"
   ]
  },
  {
   "cell_type": "markdown",
   "metadata": {},
   "source": [
    "# Test invalid data"
   ]
  },
  {
   "cell_type": "code",
   "execution_count": 7,
   "metadata": {},
   "outputs": [],
   "source": [
    "test_invalid_json(invalid_person, person_statement_schema, resolver)\n",
    "test_invalid_json(invalid_entity, entity_statement_schema, resolver)\n",
    "test_invalid_json(invalid_beneficial_ownership_statement, beneficial_ownership_statement_schema, resolver)\n",
    "test_invalid_json(no_statement_type_beneficial_ownership_statement, beneficial_ownership_statement_schema, resolver)"
   ]
  },
  {
   "cell_type": "code",
   "execution_count": 8,
   "metadata": {},
   "outputs": [],
   "source": [
    "invalid_bods_package = [valid_entity, valid_person, invalid_beneficial_ownership_statement]\n",
    "another_invalid_bods_package = [valid_entity, valid_person, no_statement_type_beneficial_ownership_statement]\n",
    "test_invalid_json(invalid_bods_package, bods_package_schema, resolver)\n",
    "test_invalid_json(another_invalid_bods_package, bods_package_schema, resolver)"
   ]
  }
 ],
 "metadata": {
  "kernelspec": {
   "display_name": "Python [default]",
   "language": "python",
   "name": "python3"
  },
  "language_info": {
   "codemirror_mode": {
    "name": "ipython",
    "version": 3
   },
   "file_extension": ".py",
   "mimetype": "text/x-python",
   "name": "python",
   "nbconvert_exporter": "python",
   "pygments_lexer": "ipython3",
   "version": "3.6.2"
  }
 },
 "nbformat": 4,
 "nbformat_minor": 2
}
